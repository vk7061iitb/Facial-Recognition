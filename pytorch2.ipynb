{
 "cells": [
  {
   "cell_type": "code",
   "execution_count": 1,
   "id": "b766e8a3-ea3c-4e69-8e6a-0cfd9ab9d556",
   "metadata": {},
   "outputs": [],
   "source": [
    "import torch\n",
    "import torch.nn as nn\n",
    "from torch.optim import SGD\n",
    "import numpy as np\n",
    "import matplotlib.pyplot as plt"
   ]
  },
  {
   "cell_type": "markdown",
   "id": "8e7ace27-b0b5-4a50-80cd-b52705d62ae6",
   "metadata": {},
   "source": [
    "Suppose one has data that consists of an independent vector and a dependent vector $x_i$ and $y_i$ ($i$ is the ith value in the data set). For example:\n",
    "\n",
    "* $x_i$ is the height of the $i$th person, and $y_i$ is their weight (predict weight using height)\n",
    "* $x_i$ is a picture of a handwritten digit, and $y_i$ is the digit itself (predict numbers from hand written numbers)\n",
    "* $x_i$ is a CT scan of a patient, and $y_i$ are the corresponding pixels corresponding to tumours (my research)\n",
    "\n",
    "The goal of a neural network is as follows. Define a function $f$ that depends on parameters $a$ that makes predictions\n",
    "\n",
    "$$\\hat{y_i} =f(x_i;a)$$\n",
    "\n",
    "One wants to make $\\hat{y_i}$ (the predictions) and $y_i$ (the true values) as close as possible by modifying the values of $a$. What does as close as possible mean? This depends on the task. In general, one defines a similarity function (or **Loss** function) $L(y,\\hat{y})$. The more similar all the $y_i$s and $\\hat{y_i}$s are, the smaller $L$ should be. For example 1 above, this could be as simple as \n",
    "\n",
    "$$L(y,\\hat{y}) = \\sum_i(y_i-\\hat{y_i})^2$$\n"
   ]
  },
  {
   "cell_type": "code",
   "execution_count": 2,
   "id": "88da39d3-262b-4f6f-8df3-db4e774ccf9d",
   "metadata": {},
   "outputs": [],
   "source": [
    "x = torch.tensor([[6,2],[5,2],[1,3],[7,6]]).float()\n",
    "y = torch.tensor([1,5,2,5]).float()"
   ]
  },
  {
   "cell_type": "markdown",
   "id": "8dec9c2b-620f-4f51-937c-69a614eb5670",
   "metadata": {},
   "source": [
    "* So $x_1 = (6,2)$, $x_2=(5,2)$, ...\n",
    "* So $y_1 = 1$, $y_2=5$, ..."
   ]
  },
  {
   "cell_type": "markdown",
   "id": "04a5fcca-9fbb-4ff3-a4ac-3e71a52ab625",
   "metadata": {},
   "source": [
    "We want to find a function $f$ that depends on parameters $a$ that lets us get from $x$ to $y$.\n",
    "\n",
    "**Idea**: \n",
    "1. First multiply each element in $x$ by a $8 \\times 2$ matrix (this is 16 parameters $a_i$)\n",
    "2. Then multiply each element in $x$ by a $1 \\times 8$ matrix (this is 8 parameters $a_i$)\n"
   ]
  },
  {
   "cell_type": "markdown",
   "id": "a5ce0629-a928-44a4-bbf0-f939590fa596",
   "metadata": {},
   "source": [
    "Define a matrix (takes in a 2d vector and returns a 8d vector). \n",
    "\n",
    "* **IMPORTANT**: When the matrix is created, it is initially created with random values."
   ]
  },
  {
   "cell_type": "code",
   "execution_count": 3,
   "id": "198c4106-5b1e-48d5-84f2-9c5ae31ae323",
   "metadata": {},
   "outputs": [
    {
     "data": {
      "text/plain": [
       "Linear(in_features=2, out_features=8, bias=False)"
      ]
     },
     "execution_count": 3,
     "metadata": {},
     "output_type": "execute_result"
    }
   ],
   "source": [
    "M1 = nn.Linear(2,8,bias=False)\n",
    "M1"
   ]
  },
  {
   "cell_type": "markdown",
   "id": "f8b93c2b-5355-48d9-98fa-19ae7b24b908",
   "metadata": {},
   "source": [
    "If one passes in a vector $x$ (the dataset) where each element $x_i$ (an instance) is a 2d vector, $M$ will apply the same matrix multiplication to each element $x_i$."
   ]
  },
  {
   "cell_type": "code",
   "execution_count": 4,
   "id": "811b1520-a06f-49a6-9f5a-a020f6a659e6",
   "metadata": {},
   "outputs": [
    {
     "data": {
      "text/plain": [
       "tensor([[ 5.0408,  0.2130, -2.8023,  1.5638, -1.7579, -1.9908,  1.3815,  2.5606],\n",
       "        [ 4.3940,  0.2763, -2.3400,  1.3548, -1.6418, -1.4763,  1.0390,  2.1609],\n",
       "        [ 2.3870,  0.8257, -0.5046,  0.6736, -1.7075,  1.1297, -0.6679,  0.6438],\n",
       "        [ 8.0079,  1.3350, -3.3210,  2.3923, -3.9959, -0.3130,  0.3768,  3.2857]],\n",
       "       grad_fn=<MmBackward0>)"
      ]
     },
     "execution_count": 4,
     "metadata": {},
     "output_type": "execute_result"
    }
   ],
   "source": [
    "M1(x)"
   ]
  },
  {
   "cell_type": "markdown",
   "id": "65ec4527-ee17-4d07-ac79-0ebf9aef20ff",
   "metadata": {},
   "source": [
    "We can chain this with a second matrix $M2$"
   ]
  },
  {
   "cell_type": "code",
   "execution_count": 5,
   "id": "b855a837-0384-4bc4-8f69-a09e69e99b1f",
   "metadata": {},
   "outputs": [
    {
     "data": {
      "text/plain": [
       "Linear(in_features=8, out_features=1, bias=False)"
      ]
     },
     "execution_count": 5,
     "metadata": {},
     "output_type": "execute_result"
    }
   ],
   "source": [
    "M2 = nn.Linear(8,1, bias=False)\n",
    "M2"
   ]
  },
  {
   "cell_type": "code",
   "execution_count": 6,
   "id": "c7d6994a-9faa-45af-b3fc-31a4841d3d28",
   "metadata": {},
   "outputs": [
    {
     "data": {
      "text/plain": [
       "tensor([0.7686, 0.7502, 1.0059, 2.1036], grad_fn=<SqueezeBackward0>)"
      ]
     },
     "execution_count": 6,
     "metadata": {},
     "output_type": "execute_result"
    }
   ],
   "source": [
    "M2(M1(x)).squeeze()"
   ]
  },
  {
   "cell_type": "code",
   "execution_count": 7,
   "id": "83643b9a-eb6a-415d-9534-99710331bbba",
   "metadata": {},
   "outputs": [
    {
     "data": {
      "text/plain": [
       "tensor([1., 5., 2., 5.])"
      ]
     },
     "execution_count": 7,
     "metadata": {},
     "output_type": "execute_result"
    }
   ],
   "source": [
    "y"
   ]
  },
  {
   "cell_type": "markdown",
   "id": "4076aa90-6a07-441a-bef7-57301e3bb10c",
   "metadata": {},
   "source": [
    "The weights of the matrices `M1` and `M2` consitute the weights $a$ of the network defined above. In order to optimize for these weights, we first construct our network $f$ as follows:"
   ]
  },
  {
   "cell_type": "code",
   "execution_count": 8,
   "id": "e8fd49a0-f43f-49c6-9096-f9b9ce286997",
   "metadata": {},
   "outputs": [],
   "source": [
    "class MyNeuralNet(nn.Module):\n",
    "    def __init__(self):\n",
    "        super().__init__()\n",
    "        self.Matrix1 = nn.Linear(2,8,bias=False)\n",
    "        self.Matrix2 = nn.Linear(8,1,bias=False)\n",
    "    def forward(self,x):\n",
    "        x = self.Matrix1(x)\n",
    "        x = self.Matrix2(x)\n",
    "        return x.squeeze()"
   ]
  },
  {
   "cell_type": "markdown",
   "id": "d4f7a476-28b7-4da8-bce8-47d317b0c686",
   "metadata": {},
   "source": [
    "Constructing the network using a subclass of the `nn.Module` allows the parameters of the network to be conveniently stored. This will be useful later when we need to adjust them."
   ]
  },
  {
   "cell_type": "code",
   "execution_count": 9,
   "id": "7676ea25-0339-4fa7-9829-4db46f459c0e",
   "metadata": {},
   "outputs": [],
   "source": [
    "f = MyNeuralNet()"
   ]
  },
  {
   "cell_type": "markdown",
   "id": "fd606ed3-1e16-40a0-9d83-75f57007cc20",
   "metadata": {},
   "source": [
    "Pass in data to the network."
   ]
  },
  {
   "cell_type": "code",
   "execution_count": 10,
   "id": "e2137968-63d5-4549-8517-4eb29886ea7d",
   "metadata": {},
   "outputs": [
    {
     "data": {
      "text/plain": [
       "tensor([0.5623, 0.6534, 1.5727, 2.6895], grad_fn=<SqueezeBackward0>)"
      ]
     },
     "execution_count": 10,
     "metadata": {},
     "output_type": "execute_result"
    }
   ],
   "source": [
    "yhat = f(x)\n",
    "yhat"
   ]
  },
  {
   "cell_type": "code",
   "execution_count": 11,
   "id": "941d1f28-f9ea-4039-9d9b-83e6b8901ccc",
   "metadata": {},
   "outputs": [
    {
     "data": {
      "text/plain": [
       "tensor([1., 5., 2., 5.])"
      ]
     },
     "execution_count": 11,
     "metadata": {},
     "output_type": "execute_result"
    }
   ],
   "source": [
    "y"
   ]
  },
  {
   "cell_type": "markdown",
   "id": "a4cd1980-df69-47ca-9973-e84b8ff70a84",
   "metadata": {},
   "source": [
    "# Adjusting $a$ so that $\\hat{y}$ and $y$ are similar"
   ]
  },
  {
   "cell_type": "markdown",
   "id": "1a5224ea-6ca1-47ac-884d-125a4c7a8f80",
   "metadata": {},
   "source": [
    "Now we define the loss function $L$, which provides a metric of similarity between $y$ and $\\hat{y}$. In this case, we will use the mean squared error loss function:"
   ]
  },
  {
   "cell_type": "code",
   "execution_count": 12,
   "id": "36e7a8cb-56de-4f7d-a81b-e8b85ac669f7",
   "metadata": {},
   "outputs": [
    {
     "data": {
      "text/plain": [
       "tensor(6.1514, grad_fn=<MseLossBackward0>)"
      ]
     },
     "execution_count": 12,
     "metadata": {},
     "output_type": "execute_result"
    }
   ],
   "source": [
    "L = nn.MSELoss()\n",
    "L(y,yhat)"
   ]
  },
  {
   "cell_type": "markdown",
   "id": "271f31de-746a-423d-9250-b37b057f814e",
   "metadata": {},
   "source": [
    "Confirming it is doing the same as the regular mean-squared error:"
   ]
  },
  {
   "cell_type": "code",
   "execution_count": 13,
   "id": "96b81fc5-cd7f-4a4e-ba46-d23b699b0480",
   "metadata": {},
   "outputs": [
    {
     "data": {
      "text/plain": [
       "tensor(6.1514, grad_fn=<MeanBackward0>)"
      ]
     },
     "execution_count": 13,
     "metadata": {},
     "output_type": "execute_result"
    }
   ],
   "source": [
    "torch.mean((y-yhat)**2)"
   ]
  },
  {
   "cell_type": "markdown",
   "id": "0d1fcb92-6d0b-4fa4-8bf2-25ec007e284c",
   "metadata": {},
   "source": [
    "Note that $L$ depends on $a$, since our predictions $\\hat{y}$ depend on the parameters of the network $a$. In this sense, $L=L(a)$. **The main idea behind machine learning** is to compute\n",
    "\n",
    "$$\\frac{\\partial L}{\\partial a_i}$$\n",
    "\n",
    "for each parameter $a_i$ of the network. Then we adjust each parameter as follows:\n",
    "\n",
    "$$a_i \\to a_i - \\ell \\frac{\\partial L}{\\partial a_i}$$\n",
    "\n",
    "where $\\ell$ is the learning rate.\n",
    "\n",
    "**Example**: A loss function that only depends on one parameter:"
   ]
  },
  {
   "cell_type": "markdown",
   "id": "0597b16f-0c73-4da0-9bd7-a0c64fc0a0f4",
   "metadata": {},
   "source": [
    "<p align=\"center\">\n",
    "  <img src=\"../images/loss.PNG\" alt=\"drawing\" width=\"500\" align=\"center\"/>\n",
    "</p>"
   ]
  },
  {
   "cell_type": "markdown",
   "id": "64040428-c794-44ad-aa72-504df520e4cc",
   "metadata": {},
   "source": [
    "The idea is to do this over and over again, until one reaches a minimum for $L$. This is called **gradient descent**.\n",
    "\n",
    "* Each pass of the full data set $x$ is called an **epoch**. In this case, we are evaluating $\\partial L/\\partial a_i$ on the entire dataset $x$ each time we iterate $a_i \\to a_i - \\ell \\frac{\\partial L}{\\partial a_i}$, so each iteration corresponds to an epoch."
   ]
  },
  {
   "cell_type": "markdown",
   "id": "15529920-1629-42cc-9d80-2ce21b5904aa",
   "metadata": {},
   "source": [
    "The `SGD`(meaning stochastic gradient descent) takes in all model parameters $a$ along with the learning rate $\\ell$."
   ]
  },
  {
   "cell_type": "code",
   "execution_count": 14,
   "id": "270691bf-40c7-4d74-934f-4dd558957af8",
   "metadata": {},
   "outputs": [],
   "source": [
    "opt = SGD(f.parameters(), lr=0.001)"
   ]
  },
  {
   "cell_type": "markdown",
   "id": "7eb3e740-fd5d-445e-9df4-11e8c54a424b",
   "metadata": {},
   "source": [
    "Adjust the parameters over and over:"
   ]
  },
  {
   "cell_type": "code",
   "execution_count": 15,
   "id": "d07cfd9c-2bcc-4d71-bf47-6b6609107db4",
   "metadata": {},
   "outputs": [],
   "source": [
    "losses = []\n",
    "for _ in range(50):\n",
    "    opt.zero_grad() # flush previous epoch's gradient\n",
    "    loss_value = L(f(x), y) #compute loss\n",
    "    loss_value.backward() # compute gradient\n",
    "    opt.step() # Perform iteration using gradient above\n",
    "    losses.append(loss_value.item())"
   ]
  },
  {
   "cell_type": "markdown",
   "id": "ed26a8ac-bb89-4f92-9e83-3309e83b58b2",
   "metadata": {},
   "source": [
    "Plot $L(a)$ as a function of number of iterations"
   ]
  },
  {
   "cell_type": "code",
   "execution_count": 16,
   "id": "5c485d7a-2593-40b0-8563-998648cb2b6a",
   "metadata": {},
   "outputs": [
    {
     "name": "stderr",
     "output_type": "stream",
     "text": [
      "<>:2: SyntaxWarning: invalid escape sequence '\\h'\n",
      "<>:2: SyntaxWarning: invalid escape sequence '\\h'\n",
      "C:\\Users\\vk706\\AppData\\Local\\Temp\\ipykernel_11900\\3493726396.py:2: SyntaxWarning: invalid escape sequence '\\h'\n",
      "  plt.ylabel('Loss $L(y,\\hat{y};a)$')\n"
     ]
    },
    {
     "data": {
      "text/plain": [
       "Text(0.5, 0, 'Epochs')"
      ]
     },
     "execution_count": 16,
     "metadata": {},
     "output_type": "execute_result"
    },
    {
     "data": {
      "image/png": "[encoded data removed]",
      "text/plain": [
       "<Figure size 640x480 with 1 Axes>"
      ]
     },
     "metadata": {},
     "output_type": "display_data"
    }
   ],
   "source": [
    "plt.plot(losses)\n",
    "plt.ylabel('Loss $L(y,\\hat{y};a)$')\n",
    "plt.xlabel('Epochs')"
   ]
  },
  {
   "cell_type": "markdown",
   "id": "13cbcbdf-3a6f-43be-9e04-f985ddd667cc",
   "metadata": {},
   "source": [
    "This is as close as we can make the model $f$ predict $y$ from $x$:"
   ]
  },
  {
   "cell_type": "code",
   "execution_count": 17,
   "id": "b9e558fa-728f-4ea0-a754-ef462c8d83a4",
   "metadata": {},
   "outputs": [
    {
     "data": {
      "text/plain": [
       "tensor([2.5726, 2.3638, 2.1889, 5.4214], grad_fn=<SqueezeBackward0>)"
      ]
     },
     "execution_count": 17,
     "metadata": {},
     "output_type": "execute_result"
    }
   ],
   "source": [
    "f(x)"
   ]
  },
  {
   "cell_type": "code",
   "execution_count": 18,
   "id": "8568c65f-5566-4aaf-9412-1a09e6bf8b45",
   "metadata": {},
   "outputs": [
    {
     "data": {
      "text/plain": [
       "tensor([1., 5., 2., 5.])"
      ]
     },
     "execution_count": 18,
     "metadata": {},
     "output_type": "execute_result"
    }
   ],
   "source": [
    "y"
   ]
  },
  {
   "cell_type": "code",
   "execution_count": null,
   "id": "9ec199b6-e8a5-41b0-b79e-5b57e4cf2588",
   "metadata": {},
   "outputs": [],
   "source": []
  }
 ],
 "metadata": {
  "kernelspec": {
   "display_name": "Python 3 (ipykernel)",
   "language": "python",
   "name": "python3"
  },
  "language_info": {
   "codemirror_mode": {
    "name": "ipython",
    "version": 3
   },
   "file_extension": ".py",
   "mimetype": "text/x-python",
   "name": "python",
   "nbconvert_exporter": "python",
   "pygments_lexer": "ipython3",
   "version": "3.12.3"
  }
 },
 "nbformat": 4,
 "nbformat_minor": 5
}
