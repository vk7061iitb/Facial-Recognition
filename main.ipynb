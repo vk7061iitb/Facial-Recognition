{
 "cells": [
  {
   "cell_type": "code",
   "execution_count": 6,
   "metadata": {},
   "outputs": [
    {
     "name": "stderr",
     "output_type": "stream",
     "text": [
      "|"
     ]
    },
    {
     "name": "stdout",
     "output_type": "stream",
     "text": [
      "Opening dataset in read-only mode as you don't have write permissions.\n"
     ]
    },
    {
     "name": "stderr",
     "output_type": "stream",
     "text": [
      "-"
     ]
    },
    {
     "name": "stdout",
     "output_type": "stream",
     "text": [
      "This dataset can be visualized in Jupyter Notebook by ds.visualize() or at https://app.activeloop.ai/activeloop/fer2013-train\n",
      "\n"
     ]
    },
    {
     "name": "stderr",
     "output_type": "stream",
     "text": [
      "-"
     ]
    },
    {
     "name": "stdout",
     "output_type": "stream",
     "text": [
      "hub://activeloop/fer2013-train loaded successfully.\n",
      "\n"
     ]
    },
    {
     "name": "stderr",
     "output_type": "stream",
     "text": [
      "/"
     ]
    },
    {
     "name": "stdout",
     "output_type": "stream",
     "text": [
      "Opening dataset in read-only mode as you don't have write permissions.\n"
     ]
    },
    {
     "name": "stderr",
     "output_type": "stream",
     "text": [
      "/"
     ]
    },
    {
     "name": "stdout",
     "output_type": "stream",
     "text": [
      "This dataset can be visualized in Jupyter Notebook by ds.visualize() or at https://app.activeloop.ai/activeloop/fer2013-public-test\n",
      "\n"
     ]
    },
    {
     "name": "stderr",
     "output_type": "stream",
     "text": [
      "|"
     ]
    },
    {
     "name": "stdout",
     "output_type": "stream",
     "text": [
      "hub://activeloop/fer2013-public-test loaded successfully.\n",
      "\n"
     ]
    },
    {
     "name": "stderr",
     "output_type": "stream",
     "text": [
      " "
     ]
    }
   ],
   "source": [
    "import random\n",
    "import matplotlib.pyplot as plt\n",
    "import torch\n",
    "import torch.nn as nn\n",
    "import torch.optim as optim\n",
    "import deeplake\n",
    "\n",
    "\n",
    "# Load the dataset\n",
    "train_ds = deeplake.load('hub://activeloop/fer2013-train')\n",
    "public_test_ds = deeplake.load('hub://activeloop/fer2013-public-test')\n",
    "\n",
    "# Create DataLoaders\n",
    "train_loader = train_ds.pytorch(num_workers=0, batch_size=64, shuffle=True)\n",
    "public_test_loader = public_test_ds.pytorch(\n",
    "    num_workers=0, batch_size=64, shuffle=False)"
   ]
  },
  {
   "cell_type": "code",
   "execution_count": 7,
   "metadata": {},
   "outputs": [],
   "source": [
    "# Define the model\n",
    "class EmotionNet(nn.Module):\n",
    "    def __init__(self):\n",
    "        super(EmotionNet, self).__init__()\n",
    "        self.conv1 = nn.Conv2d(1, 32, kernel_size=3, stride=1, padding=1)\n",
    "        self.conv2 = nn.Conv2d(32, 64, kernel_size=3, stride=1, padding=1)\n",
    "        self.fc1 = nn.Linear(64*12*12, 128)  # Adjusted for smaller image size\n",
    "        self.fc2 = nn.Linear(128, 7)  # 7 emotions\n",
    "\n",
    "    def forward(self, x):\n",
    "        x = nn.ReLU()(self.conv1(x))\n",
    "        x = nn.MaxPool2d(kernel_size=2, stride=2)(x)\n",
    "        x = nn.ReLU()(self.conv2(x))\n",
    "        x = nn.MaxPool2d(kernel_size=2, stride=2)(x)\n",
    "        x = x.view(-1, 64*12*12)  # Adjusted for smaller image size\n",
    "        x = nn.ReLU()(self.fc1(x))\n",
    "        x = self.fc2(x)\n",
    "        return x\n",
    "\n",
    "\n",
    "model = EmotionNet()\n",
    "\n",
    "# Move the model to CPU (default if no GPU is available)\n",
    "device = torch.device('cpu')\n",
    "model.to(device)\n",
    "\n",
    "# Define loss function and optimizer\n",
    "criterion = nn.CrossEntropyLoss()\n",
    "optimizer = optim.Adam(model.parameters(), lr=0.001)"
   ]
  },
  {
   "cell_type": "code",
   "execution_count": 8,
   "metadata": {},
   "outputs": [
    {
     "name": "stdout",
     "output_type": "stream",
     "text": [
      "Epoch 1/15, Loss: 1.6443, Train Accuracy: 35.33%\n",
      "Epoch 2/15, Loss: 1.4546, Train Accuracy: 44.13%\n",
      "Epoch 3/15, Loss: 1.3383, Train Accuracy: 48.89%\n",
      "Epoch 4/15, Loss: 1.2549, Train Accuracy: 52.59%\n",
      "Epoch 5/15, Loss: 1.1783, Train Accuracy: 55.90%\n",
      "Epoch 6/15, Loss: 1.1082, Train Accuracy: 58.55%\n",
      "Epoch 7/15, Loss: 1.0311, Train Accuracy: 61.74%\n",
      "Epoch 8/15, Loss: 0.9608, Train Accuracy: 64.72%\n",
      "Epoch 9/15, Loss: 0.8778, Train Accuracy: 67.93%\n",
      "Epoch 10/15, Loss: 0.8109, Train Accuracy: 70.51%\n",
      "Epoch 11/15, Loss: 0.7417, Train Accuracy: 73.13%\n",
      "Epoch 12/15, Loss: 0.6585, Train Accuracy: 76.49%\n",
      "Epoch 13/15, Loss: 0.5861, Train Accuracy: 79.32%\n",
      "Epoch 14/15, Loss: 0.5180, Train Accuracy: 81.85%\n",
      "Epoch 15/15, Loss: 0.4589, Train Accuracy: 83.93%\n"
     ]
    }
   ],
   "source": [
    "# Training the model\n",
    "num_epochs = 15\n",
    "\n",
    "for epoch in range(num_epochs):\n",
    "    model.train()\n",
    "    running_loss = 0.0\n",
    "    correct_train = 0\n",
    "    total_train = 0\n",
    "\n",
    "    # Training loop\n",
    "    for batch in train_loader:\n",
    "        images = batch['images'].float() / 255.0  # Normalize images\n",
    "        labels = batch['labels'].squeeze().long()\n",
    "        images = images.unsqueeze(1)  # Add channel dimension\n",
    "        images, labels = images.to(device), labels.to(device)\n",
    "\n",
    "        optimizer.zero_grad()\n",
    "        outputs = model(images)\n",
    "        loss = criterion(outputs, labels)\n",
    "        loss.backward()\n",
    "        optimizer.step()\n",
    "\n",
    "        running_loss += loss.item() * images.size(0)\n",
    "        _, predicted = torch.max(outputs, 1)\n",
    "        total_train += labels.size(0)\n",
    "        correct_train += (predicted == labels).sum().item()\n",
    "\n",
    "    epoch_loss = running_loss / len(train_loader.dataset)\n",
    "    train_accuracy = 100 * correct_train / total_train\n",
    "    print(f'Epoch {\n",
    "          epoch+1}/{num_epochs}, Loss: {epoch_loss:.4f}, Train Accuracy: {train_accuracy:.2f}%')"
   ]
  },
  {
   "cell_type": "code",
   "execution_count": 9,
   "metadata": {},
   "outputs": [
    {
     "name": "stdout",
     "output_type": "stream",
     "text": [
      "Public Test Accuracy: 50.74%\n"
     ]
    }
   ],
   "source": [
    "# Evaluating the model\n",
    "# Define the emotion label mapping\n",
    "emotion_map = {\n",
    "    0: 'Angry',\n",
    "    1: 'Disgust',\n",
    "    2: 'Fear',\n",
    "    3: 'Happy',\n",
    "    4: 'Sad',\n",
    "    5: 'Surprise',\n",
    "    6: 'Neutral'\n",
    "}\n",
    "\n",
    "# Evaluate the model and store the predictions\n",
    "model.eval()\n",
    "true_labels = []\n",
    "predicted_labels = []\n",
    "images_list = []\n",
    "correct = 0\n",
    "total = 0\n",
    "\n",
    "with torch.no_grad():\n",
    "    for batch in public_test_loader:\n",
    "        # Unpack images and labels from the batch\n",
    "        # Convert to float and normalize\n",
    "        images = batch['images'].float() / 255.0\n",
    "        labels = batch['labels'].squeeze().long()  # Ensuring labels are 1D\n",
    "        # Reshape images to have 1 channel\n",
    "        images = images.unsqueeze(1)  # Add channel dimension\n",
    "        # Move tensors to CPU (default)\n",
    "        images, labels = images.to(device), labels.to(device)\n",
    "        outputs = model(images)\n",
    "        _, predicted = torch.max(outputs, 1)\n",
    "        total += labels.size(0)\n",
    "        correct += (predicted == labels).sum().item()\n",
    "        # Store true labels, predicted labels, and images\n",
    "        true_labels.extend(labels.cpu().numpy())\n",
    "        predicted_labels.extend(predicted.cpu().numpy())\n",
    "        images_list.extend(images.cpu().numpy())\n",
    "\n",
    "accuracy = 100 * correct / total\n",
    "print(f'Public Test Accuracy: {accuracy:.2f}%')"
   ]
  },
  {
   "cell_type": "code",
   "execution_count": 31,
   "metadata": {},
   "outputs": [
    {
     "data": {
      "image/png": "[encoded data removed]",
      "text/plain": [
       "<Figure size 200x200 with 1 Axes>"
      ]
     },
     "metadata": {},
     "output_type": "display_data"
    }
   ],
   "source": [
    "import random\n",
    "import matplotlib.pyplot as plt\n",
    "\n",
    "# Select a random index\n",
    "random_idx = random.randint(0, len(images_list) - 1)\n",
    "\n",
    "# Retrieve the image, true label, and predicted label\n",
    "selected_image = images_list[random_idx][0]\n",
    "selected_true_label = true_labels[random_idx]\n",
    "selected_predicted_label = predicted_labels[random_idx]\n",
    "\n",
    "# Convert integer labels to emotion expressions\n",
    "true_label_expression = emotion_map[selected_true_label]\n",
    "predicted_label_expression = emotion_map[selected_predicted_label]\n",
    "\n",
    "# Plot the selected image\n",
    "plt.figure(figsize=(2, 2))\n",
    "plt.imshow(selected_image, cmap='gray')\n",
    "plt.title(f'True Expression: {true_label_expression}, Predicted Expression: {\n",
    "          predicted_label_expression}')\n",
    "plt.axis('off')\n",
    "plt.show()"
   ]
  }
 ],
 "metadata": {
  "kernelspec": {
   "display_name": "base",
   "language": "python",
   "name": "python3"
  },
  "language_info": {
   "codemirror_mode": {
    "name": "ipython",
    "version": 3
   },
   "file_extension": ".py",
   "mimetype": "text/x-python",
   "name": "python",
   "nbconvert_exporter": "python",
   "pygments_lexer": "ipython3",
   "version": "3.12.3"
  }
 },
 "nbformat": 4,
 "nbformat_minor": 2
}
